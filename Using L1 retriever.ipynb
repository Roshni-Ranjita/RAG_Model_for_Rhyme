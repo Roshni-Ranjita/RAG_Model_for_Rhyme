{
 "cells": [
  {
   "cell_type": "code",
   "execution_count": 1,
   "id": "fa48f507-b2f8-431d-8382-a49c33d097d6",
   "metadata": {},
   "outputs": [
    {
     "name": "stderr",
     "output_type": "stream",
     "text": [
      "C:\\Users\\roshn\\anaconda3\\envs\\rag\\lib\\site-packages\\tqdm\\auto.py:21: TqdmWarning: IProgress not found. Please update jupyter and ipywidgets. See https://ipywidgets.readthedocs.io/en/stable/user_install.html\n",
      "  from .autonotebook import tqdm as notebook_tqdm\n",
      "Device set to use cpu\n"
     ]
    },
    {
     "name": "stdin",
     "output_type": "stream",
     "text": [
      "Ask about a rhyme (or press Enter to exit):  Where did humpty dumpty sat\n"
     ]
    },
    {
     "name": "stdout",
     "output_type": "stream",
     "text": [
      "Answer: on a wall\n"
     ]
    },
    {
     "name": "stdin",
     "output_type": "stream",
     "text": [
      "Ask about a rhyme (or press Enter to exit):  who went up the hill\n"
     ]
    },
    {
     "name": "stderr",
     "output_type": "stream",
     "text": [
      "Token indices sequence length is longer than the specified maximum sequence length for this model (556 > 512). Running this sequence through the model will result in indexing errors\n"
     ]
    },
    {
     "name": "stdout",
     "output_type": "stream",
     "text": [
      "Answer: jack and jill\n"
     ]
    },
    {
     "name": "stdin",
     "output_type": "stream",
     "text": [
      "Ask about a rhyme (or press Enter to exit):  what did ba ba blacksheep have\n"
     ]
    },
    {
     "name": "stdout",
     "output_type": "stream",
     "text": [
      "Answer: wool\n"
     ]
    },
    {
     "name": "stdin",
     "output_type": "stream",
     "text": [
      "Ask about a rhyme (or press Enter to exit):  how many bag full of wool did ba ba black sheep have\n"
     ]
    },
    {
     "name": "stdout",
     "output_type": "stream",
     "text": [
      "Answer: Three\n"
     ]
    },
    {
     "name": "stdin",
     "output_type": "stream",
     "text": [
      "Ask about a rhyme (or press Enter to exit):  who was eating sugar\n"
     ]
    },
    {
     "name": "stdout",
     "output_type": "stream",
     "text": [
      "Answer: no papa\n"
     ]
    },
    {
     "name": "stdin",
     "output_type": "stream",
     "text": [
      "Ask about a rhyme (or press Enter to exit):  what was pocket full of\n"
     ]
    },
    {
     "name": "stdout",
     "output_type": "stream",
     "text": [
      "Answer: tuppenny rice\n"
     ]
    },
    {
     "name": "stdin",
     "output_type": "stream",
     "text": [
      "Ask about a rhyme (or press Enter to exit):  where did the mouse ran\n"
     ]
    },
    {
     "name": "stdout",
     "output_type": "stream",
     "text": [
      "Answer: up the clock\n"
     ]
    },
    {
     "name": "stdin",
     "output_type": "stream",
     "text": [
      "Ask about a rhyme (or press Enter to exit):  \n"
     ]
    }
   ],
   "source": [
    "import os\n",
    "import numpy as np\n",
    "from sentence_transformers import SentenceTransformer\n",
    "from transformers import pipeline\n",
    "\n",
    "# Load rhyme text files\n",
    "def load_rhyme_texts(path=\"Data\"):\n",
    "    texts = []\n",
    "    for filename in os.listdir(path):\n",
    "        if filename.endswith(\".txt\"):\n",
    "            with open(os.path.join(path, filename), \"r\", encoding=\"utf-8\") as f:\n",
    "                texts.append(f.read())\n",
    "    return texts\n",
    "\n",
    "# Load documents\n",
    "docs = load_rhyme_texts()\n",
    "\n",
    "# Embed using SentenceTransformer\n",
    "embedder = SentenceTransformer('all-MiniLM-L6-v2')\n",
    "doc_embeddings = embedder.encode(docs).astype('float32')\n",
    "\n",
    "# Load QA model\n",
    "qa = pipeline(\"text2text-generation\", model=\"google/flan-t5-base\")\n",
    "\n",
    "# Manual L1 search function\n",
    "def l1_search(query_emb, doc_embeddings, top_k=3):\n",
    "    dists = np.sum(np.abs(doc_embeddings - query_emb), axis=1)\n",
    "    top_k_idx = np.argsort(dists)[:top_k]\n",
    "    return top_k_idx\n",
    "\n",
    "# Query\n",
    "def query_rhymes(prompt, top_k=3):\n",
    "    query_emb = embedder.encode([prompt]).astype('float32')[0]  # Single query vector\n",
    "    top_k_idx = l1_search(query_emb, doc_embeddings, top_k=top_k)\n",
    "    context = \"\\n\".join([docs[i] for i in top_k_idx])\n",
    "    full_prompt = f\"Given the following nursery rhymes:\\n{context}\\n\\nQuestion: {prompt}\"\n",
    "    response = qa(full_prompt, max_length=500, do_sample=False)[0]['generated_text']\n",
    "    return response\n",
    "\n",
    "# Interactive interface\n",
    "if __name__ == \"__main__\":\n",
    "    while True:\n",
    "        query = input(\"Ask about a rhyme (or press Enter to exit): \")\n",
    "        if not query.strip():\n",
    "            break\n",
    "        result = query_rhymes(query)\n",
    "        print(\"Answer:\", result)\n"
   ]
  },
  {
   "cell_type": "code",
   "execution_count": null,
   "id": "1e9e53d0-d550-47bc-a617-a9e8266dc9e8",
   "metadata": {},
   "outputs": [],
   "source": []
  }
 ],
 "metadata": {
  "kernelspec": {
   "display_name": "Python 3 (ipykernel)",
   "language": "python",
   "name": "python3"
  },
  "language_info": {
   "codemirror_mode": {
    "name": "ipython",
    "version": 3
   },
   "file_extension": ".py",
   "mimetype": "text/x-python",
   "name": "python",
   "nbconvert_exporter": "python",
   "pygments_lexer": "ipython3",
   "version": "3.9.21"
  }
 },
 "nbformat": 4,
 "nbformat_minor": 5
}
